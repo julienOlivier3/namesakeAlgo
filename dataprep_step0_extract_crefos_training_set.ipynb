{
 "cells": [
  {
   "cell_type": "code",
   "execution_count": null,
   "metadata": {},
   "outputs": [],
   "source": [
    "import pandas as pd\n",
    "import numpy as np\n",
    "import pickle"
   ]
  },
  {
   "cell_type": "markdown",
   "metadata": {},
   "source": [
    "# EPO - MUP Data "
   ]
  },
  {
   "cell_type": "code",
   "execution_count": null,
   "metadata": {},
   "outputs": [],
   "source": [
    "# Read epo to mup data\n",
    "df_epovvc = pd.read_csv(r\"V:\\midp\\match\\epo2019\\epovvc2019.txt\"\n",
    "                        ,sep=\"\\t\"\n",
    "                        ,encoding=\"utf-8\")"
   ]
  },
  {
   "cell_type": "code",
   "execution_count": null,
   "metadata": {},
   "outputs": [],
   "source": [
    "df_epovvc.shape"
   ]
  },
  {
   "cell_type": "code",
   "execution_count": null,
   "metadata": {},
   "outputs": [],
   "source": [
    "df_epovvc.head()"
   ]
  },
  {
   "cell_type": "code",
   "execution_count": null,
   "metadata": {},
   "outputs": [],
   "source": [
    "# One crefo may have many patents (different appln_id/person_id)\n",
    "df_epovvc.loc[df_epovvc.crefo==2150355978,:]"
   ]
  },
  {
   "cell_type": "code",
   "execution_count": null,
   "metadata": {},
   "outputs": [],
   "source": [
    "# There are only 1s for bestcrefo. No need to drop rows\n",
    "df_epovvc.bestcrefo.value_counts(dropna=False)"
   ]
  },
  {
   "cell_type": "code",
   "execution_count": null,
   "metadata": {},
   "outputs": [],
   "source": [
    "# Trainings data comprises 36868 firms with known patent match\n",
    "len(pd.unique(df_epovvc.crefo))"
   ]
  },
  {
   "cell_type": "code",
   "execution_count": null,
   "metadata": {},
   "outputs": [],
   "source": [
    "df_tech = pd.read_csv(r\"V:\\midp\\match\\epo2019\\tech.txt\"\n",
    "                     ,sep=\"\\t\"\n",
    "                     ,encoding=\"utf-8\")"
   ]
  },
  {
   "cell_type": "code",
   "execution_count": null,
   "metadata": {},
   "outputs": [],
   "source": [
    "# One application ID may be assigned to several technology classes\n",
    "df_tech.head()"
   ]
  },
  {
   "cell_type": "code",
   "execution_count": null,
   "metadata": {},
   "outputs": [],
   "source": [
    "df_tech.shape"
   ]
  },
  {
   "cell_type": "code",
   "execution_count": null,
   "metadata": {},
   "outputs": [],
   "source": [
    "# There are 35 distinct technology classes\n",
    "len(pd.unique(df_tech.technology))"
   ]
  },
  {
   "cell_type": "code",
   "execution_count": null,
   "metadata": {},
   "outputs": [],
   "source": [
    "df_ipc = pd.read_csv(r\"V:\\midp\\match\\epo2019\\ipc.txt\"\n",
    "                     ,sep=\"\\t\"\n",
    "                     ,encoding=\"utf-8\")"
   ]
  },
  {
   "cell_type": "code",
   "execution_count": null,
   "metadata": {},
   "outputs": [],
   "source": [
    "df_ipc.head()"
   ]
  },
  {
   "cell_type": "code",
   "execution_count": null,
   "metadata": {},
   "outputs": [],
   "source": [
    "df_ipc.shape"
   ]
  },
  {
   "cell_type": "code",
   "execution_count": null,
   "metadata": {},
   "outputs": [],
   "source": [
    "# There are 59915 different ipc classes\n",
    "len(pd.unique(df_ipc.ipc))"
   ]
  },
  {
   "cell_type": "code",
   "execution_count": null,
   "metadata": {},
   "outputs": [],
   "source": [
    "# There are 123 different ipc classes (3-digit level)\n",
    "len(pd.unique(df_ipc.ipc.apply(lambda x: x[0:3])))"
   ]
  },
  {
   "cell_type": "markdown",
   "metadata": {},
   "source": [
    "# Merge Data "
   ]
  },
  {
   "cell_type": "code",
   "execution_count": null,
   "metadata": {},
   "outputs": [],
   "source": [
    "# Merge both datasets\n",
    "df = df_epovvc.merge(df_tech, how = \"left\").astype({\"technology\": \"object\"}).merge(df_ipc, how = \"left\")"
   ]
  },
  {
   "cell_type": "code",
   "execution_count": null,
   "metadata": {},
   "outputs": [],
   "source": [
    "df.head()"
   ]
  },
  {
   "cell_type": "code",
   "execution_count": null,
   "metadata": {},
   "outputs": [],
   "source": [
    "df.shape"
   ]
  },
  {
   "cell_type": "code",
   "execution_count": null,
   "metadata": {},
   "outputs": [],
   "source": [
    "# Write data\n",
    "with open(r'Q:\\Meine Bibliotheken\\Research\\Projects\\Ausgründungen\\02_Data\\02_Webdata2IPC\\df_epovvc_s0.pkl', 'wb') as f:\n",
    "    pickle.dump(obj=df, file=f)"
   ]
  },
  {
   "cell_type": "markdown",
   "metadata": {},
   "source": [
    "# Crefo & URL for Scraping "
   ]
  },
  {
   "cell_type": "code",
   "execution_count": null,
   "metadata": {},
   "outputs": [],
   "source": [
    "df_url = pd.read_csv(r\"I:\\!Projekte\\BMBF_TOBI_131308\\01_Arbeitspakete\\01_Webscraper\\Webscraper\\URLs\\2019_lebende\\MUP_2019_URLs_raw.txt\"\n",
    "                    ,sep=\"\\t\"\n",
    "                    ,encoding=\"latin-1\"\n",
    "                    ,header=None\n",
    "                    ,names=['crefo', 'url'] )"
   ]
  },
  {
   "cell_type": "code",
   "execution_count": null,
   "metadata": {},
   "outputs": [],
   "source": [
    "# Strip whitespaces in url column\n",
    "df_url[\"url\"] = df_url.url.apply(lambda x: x.strip())"
   ]
  },
  {
   "cell_type": "code",
   "execution_count": null,
   "metadata": {},
   "outputs": [],
   "source": [
    "# Merge with crefos\n",
    "df_crefo = pd.DataFrame(pd.unique(df.crefo), columns={\"crefo\"}).merge(df_url, how = \"left\")"
   ]
  },
  {
   "cell_type": "code",
   "execution_count": null,
   "metadata": {},
   "outputs": [],
   "source": [
    "# Filter only crefos with url\n",
    "df_crefo = df_crefo.loc[df_crefo.url.notnull(),:]"
   ]
  },
  {
   "cell_type": "code",
   "execution_count": null,
   "metadata": {},
   "outputs": [],
   "source": [
    "# Write data\n",
    "df_crefo.to_csv(r\"Q:\\Meine Bibliotheken\\Research\\Projects\\Ausgründungen\\02_Data\\02_Webdata2IPC\\urls.txt\"\n",
    "               ,sep = \"\\t\"\n",
    "               ,encoding=\"utf-8\"\n",
    "               ,index=False)"
   ]
  }
 ],
 "metadata": {
  "jupytext": {
   "encoding": "# -*- coding: utf-8 -*-",
   "formats": "ipynb,py:light",
   "text_representation": {
    "extension": ".py",
    "format_name": "light",
    "format_version": "1.5",
    "jupytext_version": "1.5.0"
   }
  },
  "kernelspec": {
   "display_name": "Python 3",
   "language": "python",
   "name": "python3"
  },
  "language_info": {
   "codemirror_mode": {
    "name": "ipython",
    "version": 3
   },
   "file_extension": ".py",
   "mimetype": "text/x-python",
   "name": "python",
   "nbconvert_exporter": "python",
   "pygments_lexer": "ipython3",
   "version": "3.8.1"
  },
  "toc": {
   "base_numbering": 1,
   "nav_menu": {},
   "number_sections": true,
   "sideBar": true,
   "skip_h1_title": false,
   "title_cell": "Table of Contents",
   "title_sidebar": "Contents",
   "toc_cell": false,
   "toc_position": {},
   "toc_section_display": true,
   "toc_window_display": false
  }
 },
 "nbformat": 4,
 "nbformat_minor": 4
}
