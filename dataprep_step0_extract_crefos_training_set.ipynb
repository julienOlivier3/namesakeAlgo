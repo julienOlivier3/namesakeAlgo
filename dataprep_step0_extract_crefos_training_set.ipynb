{
 "cells": [
  {
   "cell_type": "code",
   "execution_count": 1,
   "metadata": {},
   "outputs": [],
   "source": [
    "import pandas as pd\n",
    "import numpy as np\n",
    "import pickle"
   ]
  },
  {
   "cell_type": "markdown",
   "metadata": {},
   "source": [
    "# EPO - MUP Data "
   ]
  },
  {
   "cell_type": "code",
   "execution_count": 2,
   "metadata": {},
   "outputs": [],
   "source": [
    "# Read epo to mup data\n",
    "df_epovvc = pd.read_csv(r\"V:\\midp\\match\\epo2019\\epovvc2019.txt\"\n",
    "                        ,sep=\"\\t\"\n",
    "                        ,encoding=\"utf-8\")"
   ]
  },
  {
   "cell_type": "code",
   "execution_count": 3,
   "metadata": {},
   "outputs": [
    {
     "data": {
      "text/plain": [
       "(573424, 10)"
      ]
     },
     "execution_count": 3,
     "metadata": {},
     "output_type": "execute_result"
    }
   ],
   "source": [
    "df_epovvc.shape"
   ]
  },
  {
   "cell_type": "code",
   "execution_count": 4,
   "metadata": {},
   "outputs": [
    {
     "data": {
      "text/html": [
       "<div>\n",
       "<style scoped>\n",
       "    .dataframe tbody tr th:only-of-type {\n",
       "        vertical-align: middle;\n",
       "    }\n",
       "\n",
       "    .dataframe tbody tr th {\n",
       "        vertical-align: top;\n",
       "    }\n",
       "\n",
       "    .dataframe thead th {\n",
       "        text-align: right;\n",
       "    }\n",
       "</style>\n",
       "<table border=\"1\" class=\"dataframe\">\n",
       "  <thead>\n",
       "    <tr style=\"text-align: right;\">\n",
       "      <th></th>\n",
       "      <th>person_id</th>\n",
       "      <th>crefo</th>\n",
       "      <th>equal</th>\n",
       "      <th>bestcrefo</th>\n",
       "      <th>appln_id</th>\n",
       "      <th>appln_kind</th>\n",
       "      <th>appln_fili</th>\n",
       "      <th>inpadoc_fa</th>\n",
       "      <th>earliest_f</th>\n",
       "      <th>granted</th>\n",
       "    </tr>\n",
       "  </thead>\n",
       "  <tbody>\n",
       "    <tr>\n",
       "      <th>0</th>\n",
       "      <td>20</td>\n",
       "      <td>2150355978</td>\n",
       "      <td>1</td>\n",
       "      <td>1</td>\n",
       "      <td>16996827</td>\n",
       "      <td>A</td>\n",
       "      <td>1993-04-07</td>\n",
       "      <td>11221689</td>\n",
       "      <td>1992-04-07</td>\n",
       "      <td>Y</td>\n",
       "    </tr>\n",
       "    <tr>\n",
       "      <th>1</th>\n",
       "      <td>20</td>\n",
       "      <td>2150355978</td>\n",
       "      <td>1</td>\n",
       "      <td>1</td>\n",
       "      <td>17050088</td>\n",
       "      <td>A</td>\n",
       "      <td>1994-02-22</td>\n",
       "      <td>11252014</td>\n",
       "      <td>1993-02-27</td>\n",
       "      <td>Y</td>\n",
       "    </tr>\n",
       "    <tr>\n",
       "      <th>2</th>\n",
       "      <td>20</td>\n",
       "      <td>2150355978</td>\n",
       "      <td>1</td>\n",
       "      <td>1</td>\n",
       "      <td>15716114</td>\n",
       "      <td>A</td>\n",
       "      <td>1994-06-16</td>\n",
       "      <td>6554670</td>\n",
       "      <td>1993-06-16</td>\n",
       "      <td>Y</td>\n",
       "    </tr>\n",
       "    <tr>\n",
       "      <th>3</th>\n",
       "      <td>20</td>\n",
       "      <td>2150355978</td>\n",
       "      <td>1</td>\n",
       "      <td>1</td>\n",
       "      <td>16018708</td>\n",
       "      <td>A</td>\n",
       "      <td>1994-06-16</td>\n",
       "      <td>6554670</td>\n",
       "      <td>1993-06-16</td>\n",
       "      <td>Y</td>\n",
       "    </tr>\n",
       "    <tr>\n",
       "      <th>4</th>\n",
       "      <td>20</td>\n",
       "      <td>2150355978</td>\n",
       "      <td>1</td>\n",
       "      <td>1</td>\n",
       "      <td>16018709</td>\n",
       "      <td>A</td>\n",
       "      <td>1994-06-16</td>\n",
       "      <td>6554670</td>\n",
       "      <td>1993-06-16</td>\n",
       "      <td>Y</td>\n",
       "    </tr>\n",
       "  </tbody>\n",
       "</table>\n",
       "</div>"
      ],
      "text/plain": [
       "   person_id       crefo  equal  bestcrefo  appln_id appln_kind  appln_fili  \\\n",
       "0         20  2150355978      1          1  16996827          A  1993-04-07   \n",
       "1         20  2150355978      1          1  17050088          A  1994-02-22   \n",
       "2         20  2150355978      1          1  15716114          A  1994-06-16   \n",
       "3         20  2150355978      1          1  16018708          A  1994-06-16   \n",
       "4         20  2150355978      1          1  16018709          A  1994-06-16   \n",
       "\n",
       "   inpadoc_fa  earliest_f granted  \n",
       "0    11221689  1992-04-07       Y  \n",
       "1    11252014  1993-02-27       Y  \n",
       "2     6554670  1993-06-16       Y  \n",
       "3     6554670  1993-06-16       Y  \n",
       "4     6554670  1993-06-16       Y  "
      ]
     },
     "execution_count": 4,
     "metadata": {},
     "output_type": "execute_result"
    }
   ],
   "source": [
    "df_epovvc.head()"
   ]
  },
  {
   "cell_type": "code",
   "execution_count": 5,
   "metadata": {},
   "outputs": [
    {
     "data": {
      "text/html": [
       "<div>\n",
       "<style scoped>\n",
       "    .dataframe tbody tr th:only-of-type {\n",
       "        vertical-align: middle;\n",
       "    }\n",
       "\n",
       "    .dataframe tbody tr th {\n",
       "        vertical-align: top;\n",
       "    }\n",
       "\n",
       "    .dataframe thead th {\n",
       "        text-align: right;\n",
       "    }\n",
       "</style>\n",
       "<table border=\"1\" class=\"dataframe\">\n",
       "  <thead>\n",
       "    <tr style=\"text-align: right;\">\n",
       "      <th></th>\n",
       "      <th>person_id</th>\n",
       "      <th>crefo</th>\n",
       "      <th>equal</th>\n",
       "      <th>bestcrefo</th>\n",
       "      <th>appln_id</th>\n",
       "      <th>appln_kind</th>\n",
       "      <th>appln_fili</th>\n",
       "      <th>inpadoc_fa</th>\n",
       "      <th>earliest_f</th>\n",
       "      <th>granted</th>\n",
       "    </tr>\n",
       "  </thead>\n",
       "  <tbody>\n",
       "    <tr>\n",
       "      <th>0</th>\n",
       "      <td>20</td>\n",
       "      <td>2150355978</td>\n",
       "      <td>1</td>\n",
       "      <td>1</td>\n",
       "      <td>16996827</td>\n",
       "      <td>A</td>\n",
       "      <td>1993-04-07</td>\n",
       "      <td>11221689</td>\n",
       "      <td>1992-04-07</td>\n",
       "      <td>Y</td>\n",
       "    </tr>\n",
       "    <tr>\n",
       "      <th>1</th>\n",
       "      <td>20</td>\n",
       "      <td>2150355978</td>\n",
       "      <td>1</td>\n",
       "      <td>1</td>\n",
       "      <td>17050088</td>\n",
       "      <td>A</td>\n",
       "      <td>1994-02-22</td>\n",
       "      <td>11252014</td>\n",
       "      <td>1993-02-27</td>\n",
       "      <td>Y</td>\n",
       "    </tr>\n",
       "    <tr>\n",
       "      <th>2</th>\n",
       "      <td>20</td>\n",
       "      <td>2150355978</td>\n",
       "      <td>1</td>\n",
       "      <td>1</td>\n",
       "      <td>15716114</td>\n",
       "      <td>A</td>\n",
       "      <td>1994-06-16</td>\n",
       "      <td>6554670</td>\n",
       "      <td>1993-06-16</td>\n",
       "      <td>Y</td>\n",
       "    </tr>\n",
       "    <tr>\n",
       "      <th>3</th>\n",
       "      <td>20</td>\n",
       "      <td>2150355978</td>\n",
       "      <td>1</td>\n",
       "      <td>1</td>\n",
       "      <td>16018708</td>\n",
       "      <td>A</td>\n",
       "      <td>1994-06-16</td>\n",
       "      <td>6554670</td>\n",
       "      <td>1993-06-16</td>\n",
       "      <td>Y</td>\n",
       "    </tr>\n",
       "    <tr>\n",
       "      <th>4</th>\n",
       "      <td>20</td>\n",
       "      <td>2150355978</td>\n",
       "      <td>1</td>\n",
       "      <td>1</td>\n",
       "      <td>16018709</td>\n",
       "      <td>A</td>\n",
       "      <td>1994-06-16</td>\n",
       "      <td>6554670</td>\n",
       "      <td>1993-06-16</td>\n",
       "      <td>Y</td>\n",
       "    </tr>\n",
       "    <tr>\n",
       "      <th>...</th>\n",
       "      <td>...</td>\n",
       "      <td>...</td>\n",
       "      <td>...</td>\n",
       "      <td>...</td>\n",
       "      <td>...</td>\n",
       "      <td>...</td>\n",
       "      <td>...</td>\n",
       "      <td>...</td>\n",
       "      <td>...</td>\n",
       "      <td>...</td>\n",
       "    </tr>\n",
       "    <tr>\n",
       "      <th>498599</th>\n",
       "      <td>4188845</td>\n",
       "      <td>2150355978</td>\n",
       "      <td>1</td>\n",
       "      <td>1</td>\n",
       "      <td>336078805</td>\n",
       "      <td>A</td>\n",
       "      <td>2011-06-22</td>\n",
       "      <td>335355853</td>\n",
       "      <td>2010-07-02</td>\n",
       "      <td>N</td>\n",
       "    </tr>\n",
       "    <tr>\n",
       "      <th>514719</th>\n",
       "      <td>4874703</td>\n",
       "      <td>2150355978</td>\n",
       "      <td>1</td>\n",
       "      <td>1</td>\n",
       "      <td>331580332</td>\n",
       "      <td>A</td>\n",
       "      <td>2004-04-15</td>\n",
       "      <td>16142256</td>\n",
       "      <td>2003-04-15</td>\n",
       "      <td>Y</td>\n",
       "    </tr>\n",
       "    <tr>\n",
       "      <th>516272</th>\n",
       "      <td>4971295</td>\n",
       "      <td>2150355978</td>\n",
       "      <td>1</td>\n",
       "      <td>1</td>\n",
       "      <td>334678245</td>\n",
       "      <td>A</td>\n",
       "      <td>2011-05-10</td>\n",
       "      <td>334200018</td>\n",
       "      <td>2010-05-28</td>\n",
       "      <td>N</td>\n",
       "    </tr>\n",
       "    <tr>\n",
       "      <th>516273</th>\n",
       "      <td>4971295</td>\n",
       "      <td>2150355978</td>\n",
       "      <td>1</td>\n",
       "      <td>1</td>\n",
       "      <td>336534206</td>\n",
       "      <td>A</td>\n",
       "      <td>2011-07-11</td>\n",
       "      <td>336021830</td>\n",
       "      <td>2010-07-26</td>\n",
       "      <td>Y</td>\n",
       "    </tr>\n",
       "    <tr>\n",
       "      <th>522914</th>\n",
       "      <td>44910826</td>\n",
       "      <td>2150355978</td>\n",
       "      <td>1</td>\n",
       "      <td>1</td>\n",
       "      <td>55217266</td>\n",
       "      <td>A</td>\n",
       "      <td>2007-07-02</td>\n",
       "      <td>54665751</td>\n",
       "      <td>2006-07-06</td>\n",
       "      <td>N</td>\n",
       "    </tr>\n",
       "  </tbody>\n",
       "</table>\n",
       "<p>3772 rows × 10 columns</p>\n",
       "</div>"
      ],
      "text/plain": [
       "        person_id       crefo  equal  bestcrefo   appln_id appln_kind  \\\n",
       "0              20  2150355978      1          1   16996827          A   \n",
       "1              20  2150355978      1          1   17050088          A   \n",
       "2              20  2150355978      1          1   15716114          A   \n",
       "3              20  2150355978      1          1   16018708          A   \n",
       "4              20  2150355978      1          1   16018709          A   \n",
       "...           ...         ...    ...        ...        ...        ...   \n",
       "498599    4188845  2150355978      1          1  336078805          A   \n",
       "514719    4874703  2150355978      1          1  331580332          A   \n",
       "516272    4971295  2150355978      1          1  334678245          A   \n",
       "516273    4971295  2150355978      1          1  336534206          A   \n",
       "522914   44910826  2150355978      1          1   55217266          A   \n",
       "\n",
       "        appln_fili  inpadoc_fa  earliest_f granted  \n",
       "0       1993-04-07    11221689  1992-04-07       Y  \n",
       "1       1994-02-22    11252014  1993-02-27       Y  \n",
       "2       1994-06-16     6554670  1993-06-16       Y  \n",
       "3       1994-06-16     6554670  1993-06-16       Y  \n",
       "4       1994-06-16     6554670  1993-06-16       Y  \n",
       "...            ...         ...         ...     ...  \n",
       "498599  2011-06-22   335355853  2010-07-02       N  \n",
       "514719  2004-04-15    16142256  2003-04-15       Y  \n",
       "516272  2011-05-10   334200018  2010-05-28       N  \n",
       "516273  2011-07-11   336021830  2010-07-26       Y  \n",
       "522914  2007-07-02    54665751  2006-07-06       N  \n",
       "\n",
       "[3772 rows x 10 columns]"
      ]
     },
     "execution_count": 5,
     "metadata": {},
     "output_type": "execute_result"
    }
   ],
   "source": [
    "# One crefo may have many patents (different appln_id/person_id)\n",
    "df_epovvc.loc[df_epovvc.crefo==2150355978,:]"
   ]
  },
  {
   "cell_type": "code",
   "execution_count": 6,
   "metadata": {},
   "outputs": [
    {
     "data": {
      "text/plain": [
       "1    573424\n",
       "Name: bestcrefo, dtype: int64"
      ]
     },
     "execution_count": 6,
     "metadata": {},
     "output_type": "execute_result"
    }
   ],
   "source": [
    "# There are only 1s for bestcrefo. No need to drop rows\n",
    "df_epovvc.bestcrefo.value_counts(dropna=False)"
   ]
  },
  {
   "cell_type": "code",
   "execution_count": 7,
   "metadata": {},
   "outputs": [
    {
     "data": {
      "text/plain": [
       "36868"
      ]
     },
     "execution_count": 7,
     "metadata": {},
     "output_type": "execute_result"
    }
   ],
   "source": [
    "# Trainings data comprises 36868 firms with known patent match\n",
    "len(pd.unique(df_epovvc.crefo))"
   ]
  },
  {
   "cell_type": "code",
   "execution_count": 8,
   "metadata": {},
   "outputs": [],
   "source": [
    "df_tech = pd.read_csv(r\"V:\\midp\\match\\epo2019\\tech.txt\"\n",
    "                     ,sep=\"\\t\"\n",
    "                     ,encoding=\"utf-8\")"
   ]
  },
  {
   "cell_type": "code",
   "execution_count": 9,
   "metadata": {},
   "outputs": [
    {
     "data": {
      "text/html": [
       "<div>\n",
       "<style scoped>\n",
       "    .dataframe tbody tr th:only-of-type {\n",
       "        vertical-align: middle;\n",
       "    }\n",
       "\n",
       "    .dataframe tbody tr th {\n",
       "        vertical-align: top;\n",
       "    }\n",
       "\n",
       "    .dataframe thead th {\n",
       "        text-align: right;\n",
       "    }\n",
       "</style>\n",
       "<table border=\"1\" class=\"dataframe\">\n",
       "  <thead>\n",
       "    <tr style=\"text-align: right;\">\n",
       "      <th></th>\n",
       "      <th>appln_id</th>\n",
       "      <th>technology</th>\n",
       "    </tr>\n",
       "  </thead>\n",
       "  <tbody>\n",
       "    <tr>\n",
       "      <th>0</th>\n",
       "      <td>658</td>\n",
       "      <td>17</td>\n",
       "    </tr>\n",
       "    <tr>\n",
       "      <th>1</th>\n",
       "      <td>660</td>\n",
       "      <td>17</td>\n",
       "    </tr>\n",
       "    <tr>\n",
       "      <th>2</th>\n",
       "      <td>660</td>\n",
       "      <td>20</td>\n",
       "    </tr>\n",
       "    <tr>\n",
       "      <th>3</th>\n",
       "      <td>662</td>\n",
       "      <td>32</td>\n",
       "    </tr>\n",
       "    <tr>\n",
       "      <th>4</th>\n",
       "      <td>664</td>\n",
       "      <td>20</td>\n",
       "    </tr>\n",
       "  </tbody>\n",
       "</table>\n",
       "</div>"
      ],
      "text/plain": [
       "   appln_id  technology\n",
       "0       658          17\n",
       "1       660          17\n",
       "2       660          20\n",
       "3       662          32\n",
       "4       664          20"
      ]
     },
     "execution_count": 9,
     "metadata": {},
     "output_type": "execute_result"
    }
   ],
   "source": [
    "# One application ID may be assigned to several technology classes\n",
    "df_tech.head()"
   ]
  },
  {
   "cell_type": "code",
   "execution_count": 10,
   "metadata": {},
   "outputs": [
    {
     "data": {
      "text/plain": [
       "(834270, 2)"
      ]
     },
     "execution_count": 10,
     "metadata": {},
     "output_type": "execute_result"
    }
   ],
   "source": [
    "df_tech.shape"
   ]
  },
  {
   "cell_type": "code",
   "execution_count": 11,
   "metadata": {},
   "outputs": [
    {
     "data": {
      "text/plain": [
       "35"
      ]
     },
     "execution_count": 11,
     "metadata": {},
     "output_type": "execute_result"
    }
   ],
   "source": [
    "# There are 35 distinct technology classes\n",
    "len(pd.unique(df_tech.technology))"
   ]
  },
  {
   "cell_type": "code",
   "execution_count": 15,
   "metadata": {},
   "outputs": [],
   "source": [
    "df_ipc = pd.read_csv(r\"V:\\midp\\match\\epo2019\\ipc.txt\"\n",
    "                     ,sep=\"\\t\"\n",
    "                     ,encoding=\"utf-8\")"
   ]
  },
  {
   "cell_type": "code",
   "execution_count": 19,
   "metadata": {},
   "outputs": [
    {
     "data": {
      "text/html": [
       "<div>\n",
       "<style scoped>\n",
       "    .dataframe tbody tr th:only-of-type {\n",
       "        vertical-align: middle;\n",
       "    }\n",
       "\n",
       "    .dataframe tbody tr th {\n",
       "        vertical-align: top;\n",
       "    }\n",
       "\n",
       "    .dataframe thead th {\n",
       "        text-align: right;\n",
       "    }\n",
       "</style>\n",
       "<table border=\"1\" class=\"dataframe\">\n",
       "  <thead>\n",
       "    <tr style=\"text-align: right;\">\n",
       "      <th></th>\n",
       "      <th>appln_id</th>\n",
       "      <th>ipc</th>\n",
       "    </tr>\n",
       "  </thead>\n",
       "  <tbody>\n",
       "    <tr>\n",
       "      <th>0</th>\n",
       "      <td>57</td>\n",
       "      <td>C23C  26/02</td>\n",
       "    </tr>\n",
       "    <tr>\n",
       "      <th>1</th>\n",
       "      <td>57</td>\n",
       "      <td>C23C  30/00</td>\n",
       "    </tr>\n",
       "    <tr>\n",
       "      <th>2</th>\n",
       "      <td>58</td>\n",
       "      <td>G06T   7/00</td>\n",
       "    </tr>\n",
       "    <tr>\n",
       "      <th>3</th>\n",
       "      <td>59</td>\n",
       "      <td>B23B  31/02</td>\n",
       "    </tr>\n",
       "    <tr>\n",
       "      <th>4</th>\n",
       "      <td>59</td>\n",
       "      <td>B23B  31/117</td>\n",
       "    </tr>\n",
       "  </tbody>\n",
       "</table>\n",
       "</div>"
      ],
      "text/plain": [
       "   appln_id           ipc\n",
       "0        57   C23C  26/02\n",
       "1        57   C23C  30/00\n",
       "2        58   G06T   7/00\n",
       "3        59   B23B  31/02\n",
       "4        59  B23B  31/117"
      ]
     },
     "execution_count": 19,
     "metadata": {},
     "output_type": "execute_result"
    }
   ],
   "source": [
    "df_ipc.head()"
   ]
  },
  {
   "cell_type": "code",
   "execution_count": 20,
   "metadata": {},
   "outputs": [
    {
     "data": {
      "text/plain": [
       "(1966462, 2)"
      ]
     },
     "execution_count": 20,
     "metadata": {},
     "output_type": "execute_result"
    }
   ],
   "source": [
    "df_ipc.shape"
   ]
  },
  {
   "cell_type": "code",
   "execution_count": 21,
   "metadata": {},
   "outputs": [
    {
     "data": {
      "text/plain": [
       "59915"
      ]
     },
     "execution_count": 21,
     "metadata": {},
     "output_type": "execute_result"
    }
   ],
   "source": [
    "# There are 59915 different ipc classes\n",
    "len(pd.unique(df_ipc.ipc))"
   ]
  },
  {
   "cell_type": "code",
   "execution_count": 24,
   "metadata": {},
   "outputs": [
    {
     "data": {
      "text/plain": [
       "123"
      ]
     },
     "execution_count": 24,
     "metadata": {},
     "output_type": "execute_result"
    }
   ],
   "source": [
    "# There are 123 different ipc classes (3-digit level)\n",
    "len(pd.unique(df_ipc.ipc.apply(lambda x: x[0:3])))"
   ]
  },
  {
   "cell_type": "markdown",
   "metadata": {},
   "source": [
    "# Merge Data "
   ]
  },
  {
   "cell_type": "code",
   "execution_count": 25,
   "metadata": {},
   "outputs": [],
   "source": [
    "# Merge both datasets\n",
    "df = df_epovvc.merge(df_tech, how = \"left\").astype({\"technology\": \"object\"}).merge(df_ipc, how = \"left\")"
   ]
  },
  {
   "cell_type": "code",
   "execution_count": 26,
   "metadata": {},
   "outputs": [
    {
     "data": {
      "text/html": [
       "<div>\n",
       "<style scoped>\n",
       "    .dataframe tbody tr th:only-of-type {\n",
       "        vertical-align: middle;\n",
       "    }\n",
       "\n",
       "    .dataframe tbody tr th {\n",
       "        vertical-align: top;\n",
       "    }\n",
       "\n",
       "    .dataframe thead th {\n",
       "        text-align: right;\n",
       "    }\n",
       "</style>\n",
       "<table border=\"1\" class=\"dataframe\">\n",
       "  <thead>\n",
       "    <tr style=\"text-align: right;\">\n",
       "      <th></th>\n",
       "      <th>person_id</th>\n",
       "      <th>crefo</th>\n",
       "      <th>equal</th>\n",
       "      <th>bestcrefo</th>\n",
       "      <th>appln_id</th>\n",
       "      <th>appln_kind</th>\n",
       "      <th>appln_fili</th>\n",
       "      <th>inpadoc_fa</th>\n",
       "      <th>earliest_f</th>\n",
       "      <th>granted</th>\n",
       "      <th>technology</th>\n",
       "      <th>ipc</th>\n",
       "    </tr>\n",
       "  </thead>\n",
       "  <tbody>\n",
       "    <tr>\n",
       "      <th>0</th>\n",
       "      <td>20</td>\n",
       "      <td>2150355978</td>\n",
       "      <td>1</td>\n",
       "      <td>1</td>\n",
       "      <td>16996827</td>\n",
       "      <td>A</td>\n",
       "      <td>1993-04-07</td>\n",
       "      <td>11221689</td>\n",
       "      <td>1992-04-07</td>\n",
       "      <td>Y</td>\n",
       "      <td>2</td>\n",
       "      <td>H04J   3/00</td>\n",
       "    </tr>\n",
       "    <tr>\n",
       "      <th>1</th>\n",
       "      <td>20</td>\n",
       "      <td>2150355978</td>\n",
       "      <td>1</td>\n",
       "      <td>1</td>\n",
       "      <td>16996827</td>\n",
       "      <td>A</td>\n",
       "      <td>1993-04-07</td>\n",
       "      <td>11221689</td>\n",
       "      <td>1992-04-07</td>\n",
       "      <td>Y</td>\n",
       "      <td>2</td>\n",
       "      <td>H04J   3/06</td>\n",
       "    </tr>\n",
       "    <tr>\n",
       "      <th>2</th>\n",
       "      <td>20</td>\n",
       "      <td>2150355978</td>\n",
       "      <td>1</td>\n",
       "      <td>1</td>\n",
       "      <td>16996827</td>\n",
       "      <td>A</td>\n",
       "      <td>1993-04-07</td>\n",
       "      <td>11221689</td>\n",
       "      <td>1992-04-07</td>\n",
       "      <td>Y</td>\n",
       "      <td>2</td>\n",
       "      <td>H04L   5/22</td>\n",
       "    </tr>\n",
       "    <tr>\n",
       "      <th>3</th>\n",
       "      <td>20</td>\n",
       "      <td>2150355978</td>\n",
       "      <td>1</td>\n",
       "      <td>1</td>\n",
       "      <td>16996827</td>\n",
       "      <td>A</td>\n",
       "      <td>1993-04-07</td>\n",
       "      <td>11221689</td>\n",
       "      <td>1992-04-07</td>\n",
       "      <td>Y</td>\n",
       "      <td>2</td>\n",
       "      <td>H04M  11/00</td>\n",
       "    </tr>\n",
       "    <tr>\n",
       "      <th>4</th>\n",
       "      <td>20</td>\n",
       "      <td>2150355978</td>\n",
       "      <td>1</td>\n",
       "      <td>1</td>\n",
       "      <td>16996827</td>\n",
       "      <td>A</td>\n",
       "      <td>1993-04-07</td>\n",
       "      <td>11221689</td>\n",
       "      <td>1992-04-07</td>\n",
       "      <td>Y</td>\n",
       "      <td>2</td>\n",
       "      <td>H04N   5/44</td>\n",
       "    </tr>\n",
       "  </tbody>\n",
       "</table>\n",
       "</div>"
      ],
      "text/plain": [
       "   person_id       crefo  equal  bestcrefo  appln_id appln_kind  appln_fili  \\\n",
       "0         20  2150355978      1          1  16996827          A  1993-04-07   \n",
       "1         20  2150355978      1          1  16996827          A  1993-04-07   \n",
       "2         20  2150355978      1          1  16996827          A  1993-04-07   \n",
       "3         20  2150355978      1          1  16996827          A  1993-04-07   \n",
       "4         20  2150355978      1          1  16996827          A  1993-04-07   \n",
       "\n",
       "   inpadoc_fa  earliest_f granted technology          ipc  \n",
       "0    11221689  1992-04-07       Y          2  H04J   3/00  \n",
       "1    11221689  1992-04-07       Y          2  H04J   3/06  \n",
       "2    11221689  1992-04-07       Y          2  H04L   5/22  \n",
       "3    11221689  1992-04-07       Y          2  H04M  11/00  \n",
       "4    11221689  1992-04-07       Y          2  H04N   5/44  "
      ]
     },
     "execution_count": 26,
     "metadata": {},
     "output_type": "execute_result"
    }
   ],
   "source": [
    "df.head()"
   ]
  },
  {
   "cell_type": "code",
   "execution_count": 27,
   "metadata": {},
   "outputs": [
    {
     "data": {
      "text/plain": [
       "(3708119, 12)"
      ]
     },
     "execution_count": 27,
     "metadata": {},
     "output_type": "execute_result"
    }
   ],
   "source": [
    "df.shape"
   ]
  },
  {
   "cell_type": "code",
   "execution_count": 28,
   "metadata": {
    "scrolled": true
   },
   "outputs": [],
   "source": [
    "# Write data\n",
    "with open(r'Q:\\Meine Bibliotheken\\Research\\Projects\\Ausgründungen\\02_Data\\02_Webdata2IPC\\df_epovvc_s0.pkl', 'wb') as f:\n",
    "    pickle.dump(obj=df, file=f)"
   ]
  },
  {
   "cell_type": "markdown",
   "metadata": {},
   "source": [
    "# Crefo & URL for Scraping "
   ]
  },
  {
   "cell_type": "code",
   "execution_count": 70,
   "metadata": {},
   "outputs": [],
   "source": [
    "df_url = pd.read_csv(r\"I:\\!Projekte\\BMBF_TOBI_131308\\01_Arbeitspakete\\01_Webscraper\\Webscraper\\URLs\\2019_lebende\\MUP_2019_URLs_raw.txt\"\n",
    "                    ,sep=\"\\t\"\n",
    "                    ,encoding=\"latin-1\"\n",
    "                    ,header=None\n",
    "                    ,names=['crefo', 'url'] )"
   ]
  },
  {
   "cell_type": "code",
   "execution_count": 71,
   "metadata": {},
   "outputs": [],
   "source": [
    "# Strip whitespaces in url column\n",
    "df_url[\"url\"] = df_url.url.apply(lambda x: x.strip())"
   ]
  },
  {
   "cell_type": "code",
   "execution_count": 67,
   "metadata": {},
   "outputs": [
    {
     "data": {
      "text/html": [
       "<div>\n",
       "<style scoped>\n",
       "    .dataframe tbody tr th:only-of-type {\n",
       "        vertical-align: middle;\n",
       "    }\n",
       "\n",
       "    .dataframe tbody tr th {\n",
       "        vertical-align: top;\n",
       "    }\n",
       "\n",
       "    .dataframe thead th {\n",
       "        text-align: right;\n",
       "    }\n",
       "</style>\n",
       "<table border=\"1\" class=\"dataframe\">\n",
       "  <thead>\n",
       "    <tr style=\"text-align: right;\">\n",
       "      <th></th>\n",
       "      <th>crefo</th>\n",
       "      <th>url</th>\n",
       "    </tr>\n",
       "  </thead>\n",
       "  <tbody>\n",
       "    <tr>\n",
       "      <th>0</th>\n",
       "      <td>2150355978</td>\n",
       "      <td>www.ip.philips.com</td>\n",
       "    </tr>\n",
       "    <tr>\n",
       "      <th>1</th>\n",
       "      <td>5330210848</td>\n",
       "      <td>www.saltigo.de</td>\n",
       "    </tr>\n",
       "    <tr>\n",
       "      <th>2</th>\n",
       "      <td>5330000056</td>\n",
       "      <td>www.bayer.com</td>\n",
       "    </tr>\n",
       "    <tr>\n",
       "      <th>3</th>\n",
       "      <td>2010636962</td>\n",
       "      <td>www.aca-berlin.de</td>\n",
       "    </tr>\n",
       "    <tr>\n",
       "      <th>4</th>\n",
       "      <td>3030129533</td>\n",
       "      <td>www.amtec-chemnitz.de</td>\n",
       "    </tr>\n",
       "  </tbody>\n",
       "</table>\n",
       "</div>"
      ],
      "text/plain": [
       "        crefo                    url\n",
       "0  2150355978     www.ip.philips.com\n",
       "1  5330210848         www.saltigo.de\n",
       "2  5330000056          www.bayer.com\n",
       "3  2010636962      www.aca-berlin.de\n",
       "4  3030129533  www.amtec-chemnitz.de"
      ]
     },
     "execution_count": 67,
     "metadata": {},
     "output_type": "execute_result"
    }
   ],
   "source": [
    "# Merge with crefos\n",
    "df_crefo = pd.DataFrame(pd.unique(df.crefo), columns={\"crefo\"}).merge(df_url, how = \"left\")"
   ]
  },
  {
   "cell_type": "code",
   "execution_count": 83,
   "metadata": {},
   "outputs": [],
   "source": [
    "# Filter only crefos with url\n",
    "df_crefo = df_crefo.loc[df_crefo.url.notnull(),:]"
   ]
  },
  {
   "cell_type": "code",
   "execution_count": 85,
   "metadata": {},
   "outputs": [],
   "source": [
    "# Write data\n",
    "df_crefo.to_csv(r\"Q:\\Meine Bibliotheken\\Research\\Projects\\Ausgründungen\\02_Data\\02_Webdata2IPC\\urls.txt\"\n",
    "               ,sep = \"\\t\"\n",
    "               ,encoding=\"utf-8\"\n",
    "               ,index=False)"
   ]
  }
 ],
 "metadata": {
  "jupytext": {
   "formats": "ipynb,py:light"
  },
  "kernelspec": {
   "display_name": "Python 3",
   "language": "python",
   "name": "python3"
  },
  "language_info": {
   "codemirror_mode": {
    "name": "ipython",
    "version": 3
   },
   "file_extension": ".py",
   "mimetype": "text/x-python",
   "name": "python",
   "nbconvert_exporter": "python",
   "pygments_lexer": "ipython3",
   "version": "3.8.1"
  },
  "toc": {
   "base_numbering": 1,
   "nav_menu": {},
   "number_sections": true,
   "sideBar": true,
   "skip_h1_title": false,
   "title_cell": "Table of Contents",
   "title_sidebar": "Contents",
   "toc_cell": false,
   "toc_position": {},
   "toc_section_display": true,
   "toc_window_display": false
  }
 },
 "nbformat": 4,
 "nbformat_minor": 4
}
