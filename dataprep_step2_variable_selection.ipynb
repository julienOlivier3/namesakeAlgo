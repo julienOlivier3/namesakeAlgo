{
 "cells": [
  {
   "cell_type": "code",
   "execution_count": 1,
   "metadata": {},
   "outputs": [],
   "source": [
    "import pandas as pd\n",
    "import numpy as np\n",
    "import pickle"
   ]
  },
  {
   "cell_type": "code",
   "execution_count": 2,
   "metadata": {},
   "outputs": [],
   "source": [
    "df_epovvc = pd.read_pickle(r\"Q:\\Meine Bibliotheken\\Research\\Projects\\Ausgründungen\\02_Data\\02_Webdata2IPC\\df_epovvc_s1.pkl\")"
   ]
  },
  {
   "cell_type": "code",
   "execution_count": 4,
   "metadata": {},
   "outputs": [
    {
     "data": {
      "text/html": [
       "<div>\n",
       "<style scoped>\n",
       "    .dataframe tbody tr th:only-of-type {\n",
       "        vertical-align: middle;\n",
       "    }\n",
       "\n",
       "    .dataframe tbody tr th {\n",
       "        vertical-align: top;\n",
       "    }\n",
       "\n",
       "    .dataframe thead th {\n",
       "        text-align: right;\n",
       "    }\n",
       "</style>\n",
       "<table border=\"1\" class=\"dataframe\">\n",
       "  <thead>\n",
       "    <tr style=\"text-align: right;\">\n",
       "      <th></th>\n",
       "      <th>person_id</th>\n",
       "      <th>crefo</th>\n",
       "      <th>equal</th>\n",
       "      <th>bestcrefo</th>\n",
       "      <th>appln_id</th>\n",
       "      <th>appln_kind</th>\n",
       "      <th>appln_fili</th>\n",
       "      <th>inpadoc_fa</th>\n",
       "      <th>earliest_f</th>\n",
       "      <th>granted</th>\n",
       "      <th>technology</th>\n",
       "      <th>ipc</th>\n",
       "      <th>text</th>\n",
       "      <th>links</th>\n",
       "    </tr>\n",
       "  </thead>\n",
       "  <tbody>\n",
       "    <tr>\n",
       "      <th>0</th>\n",
       "      <td>20</td>\n",
       "      <td>2150355978</td>\n",
       "      <td>1</td>\n",
       "      <td>1</td>\n",
       "      <td>16996827</td>\n",
       "      <td>A</td>\n",
       "      <td>1993-04-07</td>\n",
       "      <td>11221689</td>\n",
       "      <td>1992-04-07</td>\n",
       "      <td>Y</td>\n",
       "      <td>2</td>\n",
       "      <td>H04J   3/00</td>\n",
       "      <td>[-&gt;p&lt;-] Intellectual Property &amp; Standards [-&gt;p...</td>\n",
       "      <td>[philips.com,twitter.com,youtube.com,plus.goog...</td>\n",
       "    </tr>\n",
       "    <tr>\n",
       "      <th>1</th>\n",
       "      <td>20</td>\n",
       "      <td>2150355978</td>\n",
       "      <td>1</td>\n",
       "      <td>1</td>\n",
       "      <td>16996827</td>\n",
       "      <td>A</td>\n",
       "      <td>1993-04-07</td>\n",
       "      <td>11221689</td>\n",
       "      <td>1992-04-07</td>\n",
       "      <td>Y</td>\n",
       "      <td>2</td>\n",
       "      <td>H04J   3/06</td>\n",
       "      <td>[-&gt;p&lt;-] Intellectual Property &amp; Standards [-&gt;p...</td>\n",
       "      <td>[philips.com,twitter.com,youtube.com,plus.goog...</td>\n",
       "    </tr>\n",
       "    <tr>\n",
       "      <th>2</th>\n",
       "      <td>20</td>\n",
       "      <td>2150355978</td>\n",
       "      <td>1</td>\n",
       "      <td>1</td>\n",
       "      <td>16996827</td>\n",
       "      <td>A</td>\n",
       "      <td>1993-04-07</td>\n",
       "      <td>11221689</td>\n",
       "      <td>1992-04-07</td>\n",
       "      <td>Y</td>\n",
       "      <td>2</td>\n",
       "      <td>H04L   5/22</td>\n",
       "      <td>[-&gt;p&lt;-] Intellectual Property &amp; Standards [-&gt;p...</td>\n",
       "      <td>[philips.com,twitter.com,youtube.com,plus.goog...</td>\n",
       "    </tr>\n",
       "  </tbody>\n",
       "</table>\n",
       "</div>"
      ],
      "text/plain": [
       "   person_id       crefo  equal  bestcrefo  appln_id appln_kind  appln_fili  \\\n",
       "0         20  2150355978      1          1  16996827          A  1993-04-07   \n",
       "1         20  2150355978      1          1  16996827          A  1993-04-07   \n",
       "2         20  2150355978      1          1  16996827          A  1993-04-07   \n",
       "\n",
       "   inpadoc_fa  earliest_f granted technology          ipc  \\\n",
       "0    11221689  1992-04-07       Y          2  H04J   3/00   \n",
       "1    11221689  1992-04-07       Y          2  H04J   3/06   \n",
       "2    11221689  1992-04-07       Y          2  H04L   5/22   \n",
       "\n",
       "                                                text  \\\n",
       "0  [->p<-] Intellectual Property & Standards [->p...   \n",
       "1  [->p<-] Intellectual Property & Standards [->p...   \n",
       "2  [->p<-] Intellectual Property & Standards [->p...   \n",
       "\n",
       "                                               links  \n",
       "0  [philips.com,twitter.com,youtube.com,plus.goog...  \n",
       "1  [philips.com,twitter.com,youtube.com,plus.goog...  \n",
       "2  [philips.com,twitter.com,youtube.com,plus.goog...  "
      ]
     },
     "execution_count": 4,
     "metadata": {},
     "output_type": "execute_result"
    }
   ],
   "source": [
    "df_epovvc.head(3)"
   ]
  },
  {
   "cell_type": "code",
   "execution_count": 11,
   "metadata": {},
   "outputs": [],
   "source": [
    "# Function to extract relevant data\n",
    "def func_extractor(df, cols):\n",
    "    res = df.loc[:, cols].drop_duplicates()\n",
    "    return res"
   ]
  },
  {
   "cell_type": "code",
   "execution_count": 12,
   "metadata": {},
   "outputs": [],
   "source": [
    "df = func_extractor(df_epovvc, cols = ['crefo', 'technology', 'text'])"
   ]
  },
  {
   "cell_type": "code",
   "execution_count": 13,
   "metadata": {},
   "outputs": [
    {
     "data": {
      "text/html": [
       "<div>\n",
       "<style scoped>\n",
       "    .dataframe tbody tr th:only-of-type {\n",
       "        vertical-align: middle;\n",
       "    }\n",
       "\n",
       "    .dataframe tbody tr th {\n",
       "        vertical-align: top;\n",
       "    }\n",
       "\n",
       "    .dataframe thead th {\n",
       "        text-align: right;\n",
       "    }\n",
       "</style>\n",
       "<table border=\"1\" class=\"dataframe\">\n",
       "  <thead>\n",
       "    <tr style=\"text-align: right;\">\n",
       "      <th></th>\n",
       "      <th>crefo</th>\n",
       "      <th>technology</th>\n",
       "      <th>text</th>\n",
       "    </tr>\n",
       "  </thead>\n",
       "  <tbody>\n",
       "    <tr>\n",
       "      <th>0</th>\n",
       "      <td>2150355978</td>\n",
       "      <td>2</td>\n",
       "      <td>[-&gt;p&lt;-] Intellectual Property &amp; Standards [-&gt;p...</td>\n",
       "    </tr>\n",
       "    <tr>\n",
       "      <th>10</th>\n",
       "      <td>2150355978</td>\n",
       "      <td>3</td>\n",
       "      <td>[-&gt;p&lt;-] Intellectual Property &amp; Standards [-&gt;p...</td>\n",
       "    </tr>\n",
       "    <tr>\n",
       "      <th>20</th>\n",
       "      <td>2150355978</td>\n",
       "      <td>4</td>\n",
       "      <td>[-&gt;p&lt;-] Intellectual Property &amp; Standards [-&gt;p...</td>\n",
       "    </tr>\n",
       "  </tbody>\n",
       "</table>\n",
       "</div>"
      ],
      "text/plain": [
       "         crefo technology                                               text\n",
       "0   2150355978          2  [->p<-] Intellectual Property & Standards [->p...\n",
       "10  2150355978          3  [->p<-] Intellectual Property & Standards [->p...\n",
       "20  2150355978          4  [->p<-] Intellectual Property & Standards [->p..."
      ]
     },
     "execution_count": 13,
     "metadata": {},
     "output_type": "execute_result"
    }
   ],
   "source": [
    "df.head(3)"
   ]
  }
 ],
 "metadata": {
  "jupytext": {
   "formats": "ipynb,py:light"
  },
  "kernelspec": {
   "display_name": "Python 3",
   "language": "python",
   "name": "python3"
  },
  "language_info": {
   "codemirror_mode": {
    "name": "ipython",
    "version": 3
   },
   "file_extension": ".py",
   "mimetype": "text/x-python",
   "name": "python",
   "nbconvert_exporter": "python",
   "pygments_lexer": "ipython3",
   "version": "3.8.1"
  },
  "toc": {
   "base_numbering": 1,
   "nav_menu": {},
   "number_sections": true,
   "sideBar": true,
   "skip_h1_title": false,
   "title_cell": "Table of Contents",
   "title_sidebar": "Contents",
   "toc_cell": false,
   "toc_position": {},
   "toc_section_display": true,
   "toc_window_display": false
  }
 },
 "nbformat": 4,
 "nbformat_minor": 4
}
